{
  "nbformat": 4,
  "nbformat_minor": 0,
  "metadata": {
    "colab": {
      "provenance": [],
      "gpuType": "T4"
    },
    "kernelspec": {
      "name": "python3",
      "display_name": "Python 3"
    },
    "language_info": {
      "name": "python"
    },
    "accelerator": "GPU"
  },
  "cells": [
    {
      "cell_type": "code",
      "execution_count": 5,
      "metadata": {
        "colab": {
          "base_uri": "https://localhost:8080/"
        },
        "id": "yOjRSUimeqw6",
        "outputId": "132db951-5c2b-4746-b90f-900c50973d84"
      },
      "outputs": [
        {
          "output_type": "stream",
          "name": "stdout",
          "text": [
            "Executed on: 0\n",
            "Softmax 1 timed at: 2.171754837036133 ms\n",
            "Softmax 2 timed at: 2.1643638610839844 ms\n",
            "Softmax 3 timed at: 2.1517276763916016 ms\n",
            "Softmax 4 timed at: 2.171039581298828 ms\n",
            "Softmax 5 timed at: 2.1674633026123047 ms\n",
            "Softmax 6 timed at: 2.150297164916992 ms\n",
            "Softmax 7 timed at: 2.1452903747558594 ms\n",
            "Softmax 8 timed at: 2.1457672119140625 ms\n",
            "Softmax 9 timed at: 2.1393299102783203 ms\n",
            "Softmax 10 timed at: 2.1495819091796875 ms\n",
            "Softmax gross average:  2.1556615829467773  ms\n"
          ]
        }
      ],
      "source": [
        "import torch\n",
        "import time\n",
        "import torch.nn.functional as F\n",
        "\n",
        "matrix = torch.randn(1024, 32768, device = 'cuda', dtype = torch.float32)\n",
        "print(\"Executed on:\", matrix.get_device())\n",
        "\n",
        "output = F.softmax(matrix, dim = -1)\n",
        "\n",
        "# just in case\n",
        "torch.cuda.synchronize()\n",
        "\n",
        "iters = 10\n",
        "total_time = 0\n",
        "\n",
        "for i in range(iters):\n",
        "    torch.cuda.synchronize()\n",
        "    start = time.time()\n",
        "    output = F.softmax(matrix, dim = -1)\n",
        "    torch.cuda.synchronize()\n",
        "    stop = time.time()\n",
        "\n",
        "    total_time += (stop - start) * 1000\n",
        "    print(f\"Softmax {i + 1} timed at:\", (stop - start) * 1000, \"ms\")\n",
        "\n",
        "print(f\"Softmax gross average: \", total_time / iters, \" ms\")"
      ]
    }
  ]
}